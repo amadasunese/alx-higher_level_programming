{
 "cells": [
  {
   "cell_type": "code",
   "execution_count": 1,
   "id": "797f7015",
   "metadata": {},
   "outputs": [],
   "source": [
    "class User:\n",
    "    id = 89\n",
    "    name = \"no name\"\n",
    "    __password = None\n",
    "\n",
    "def __init__(self, new_name=None):\n",
    "    self.is_new = True\n",
    "    if new_name is not None:\n",
    "        self.name = new_name\n",
    "        u = User(\"John\")\n",
    "        u.name"
   ]
  },
  {
   "cell_type": "code",
   "execution_count": 5,
   "id": "a22bec3d",
   "metadata": {},
   "outputs": [
    {
     "data": {
      "text/plain": [
       "89"
      ]
     },
     "execution_count": 5,
     "metadata": {},
     "output_type": "execute_result"
    }
   ],
   "source": [
    "class User:\n",
    "    id = 89\n",
    "    name = \"no name\"\n",
    "    __password = None\n",
    "    \n",
    "    def __init__(self, new_name=None):\n",
    "        self.is_new = True\n",
    "        if new_name is not None:\n",
    "            self.name = new_name\n",
    "\n",
    "u = User()\n",
    "u.id"
   ]
  },
  {
   "cell_type": "code",
   "execution_count": null,
   "id": "09f4d043",
   "metadata": {},
   "outputs": [],
   "source": []
  }
 ],
 "metadata": {
  "kernelspec": {
   "display_name": "Python 3 (ipykernel)",
   "language": "python",
   "name": "python3"
  },
  "language_info": {
   "codemirror_mode": {
    "name": "ipython",
    "version": 3
   },
   "file_extension": ".py",
   "mimetype": "text/x-python",
   "name": "python",
   "nbconvert_exporter": "python",
   "pygments_lexer": "ipython3",
   "version": "3.11.2"
  }
 },
 "nbformat": 4,
 "nbformat_minor": 5
}
